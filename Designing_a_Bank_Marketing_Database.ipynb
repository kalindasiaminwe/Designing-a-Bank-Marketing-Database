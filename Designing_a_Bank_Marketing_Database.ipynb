{
  "cells": [
    {
      "cell_type": "markdown",
      "metadata": {
        "id": "view-in-github",
        "colab_type": "text"
      },
      "source": [
        "<a href=\"https://colab.research.google.com/github/kalindasiaminwe/Designing-a-Bank-Marketing-Database/blob/main/Designing_a_Bank_Marketing_Database.ipynb\" target=\"_parent\"><img src=\"https://colab.research.google.com/assets/colab-badge.svg\" alt=\"Open In Colab\"/></a>"
      ]
    },
    {
      "source": [
        "<center><img src=\"https://assets.datacamp.com/production/repositories/6005/datasets/0c64652120b80cfe2762012d7252b439138be223/piggy_bank.jpg\" alt=\"Piggy bank\" width=\"600\" height=\"500\"></center>\n",
        "\n",
        "Personal loans are a lucrative revenue stream for banks. The typical interest rate of a two year loan in the United Kingdom is [around 10%](https://www.experian.com/blogs/ask-experian/whats-a-good-interest-rate-for-a-personal-loan/). This might not sound like a lot, but in September 2022 alone UK consumers borrowed [around £1.5 billion](https://www.ukfinance.org.uk/system/files/2022-12/Household%20Finance%20Review%202022%20Q3-%20Final.pdf)!\n",
        "\n",
        "You have been asked to work with a bank to clean and store the data they collected as part of a recent marketing campaign, which aimed to get customers to take out a personal loan. They plan to conduct more marketing campaigns going forward so would like you to set up a PostgreSQL database to store this campaign's data, designing the schema in a way that would allow data from future campaigns to be easily imported. \n",
        "\n",
        "They have supplied you with a csv file called `\"bank_marketing.csv\"`, which you will need to clean, reformat, and split, in order to save separate files based on the tables you will create. Lastly, you will write the SQL code that the bank can execute to create the tables and populate with the data from the csv files. As the bank are quite strict about their security, you'll provide the database design script as a `.sql` file that they can then run. \n",
        "\n",
        "You have been asked to design a database that will have three tables:\n",
        "\n",
        "## `client`\n",
        "| column | data type | description |\n",
        "|--------|-----------|-------------|\n",
        "| `id` | `serial` | Client ID - primary key |\n",
        "| `age` | `integer` | Client's age in years |\n",
        "| `job` | `text` | Client's type of job |\n",
        "| `marital` | `text` | Client's marital status |\n",
        "| `education` | `text` | Client's level of education |\n",
        "| `credit_default` | `text` | Whether the client's credit is in default |\n",
        "| `housing` | `text` | Whether the client has an existing housing loan (mortgage) |\n",
        "| `loan` | `text` | Whether the client has an existing personal loan |\n",
        "\n",
        "## `campaign`\n",
        "| column | data type | description |\n",
        "|--------|-----------|-------------|\n",
        "| `campaign_id` | `integer` | Campaign ID |\n",
        "| `client_id` | `serial` | Client ID - references `id` in the `client` table |\n",
        "| `number_contacts` | `integer` | Number of contact attempts to the client in the current campaign |\n",
        "| `contact_duration` | `integer` | Last contact duration in seconds |\n",
        "| `pdays` | `integer` | Number of days since contact in previous campaign (`999` = not previously contacted) |\n",
        "| `previous_campaign_contacts` | `integer` | Number of contact attempts to the client in the previous campaign |\n",
        "| `previous_outcome` | `text` | Outcome of the previous campaign |\n",
        "| `campaign_outcome` | `integer` | Outcome of the current campaign |\n",
        "| `last_contact_date` | `date` | Last date the client was contacted |\n",
        "\n",
        "## `economics`\n",
        "| column | data type | description |\n",
        "|--------|-----------|-------------|\n",
        "| `client_id` | `serial` | Client ID - references `id` in the `client` table |\n",
        "| `emp_var_rate` | `float` | Employment variation rate (quarterly indicator) |\n",
        "| `cons_price_idx` | `float` | Consumer price index (monthly indicator) |\n",
        "| `euribor_three_months` | `float` | Euro Interbank Offered Rate (euribor) three month rate (daily indicator) |\n",
        "| `number_employed` | `float` | Number of employees (quarterly indicator)| "
      ],
      "metadata": {
        "id": "02077ee3-e1e4-4fc5-8de1-16e987afa5fb"
      },
      "id": "02077ee3-e1e4-4fc5-8de1-16e987afa5fb",
      "cell_type": "markdown"
    },
    {
      "cell_type": "markdown",
      "source": [
        "We will start off by importing pandas and numpy "
      ],
      "metadata": {
        "id": "15wYo4E8flVx"
      },
      "id": "15wYo4E8flVx"
    },
    {
      "source": [
        "#Import libraries\n",
        "import pandas as pd\n",
        "import numpy as np"
      ],
      "metadata": {
        "executionTime": 282,
        "lastSuccessfullyExecutedCode": "# Start coding...\nimport pandas as pd\nimport numpy as np",
        "id": "0ab0d494-516d-4861-8666-33e8f6f92f16"
      },
      "id": "0ab0d494-516d-4861-8666-33e8f6f92f16",
      "cell_type": "code",
      "execution_count": null,
      "outputs": []
    },
    {
      "cell_type": "markdown",
      "source": [
        "Once thats done, we load our csv file as a dataframe and explore it before we begin transforming it to the requirements given to us by the bank."
      ],
      "metadata": {
        "id": "Z2ARb60_gFwI"
      },
      "id": "Z2ARb60_gFwI"
    },
    {
      "source": [
        "data = pd.read_csv(\"/content/bank_marketing.csv\") "
      ],
      "metadata": {
        "executionTime": 114,
        "lastSuccessfullyExecutedCode": "data = pd.read_csv(\"bank_marketing.csv\")",
        "id": "bace69e0-df1c-4b62-a77a-324f01349055"
      },
      "cell_type": "code",
      "id": "bace69e0-df1c-4b62-a77a-324f01349055",
      "execution_count": null,
      "outputs": []
    },
    {
      "source": [
        "#Check columns contained in the dataset\n",
        "data.columns"
      ],
      "metadata": {
        "executionTime": 32,
        "lastSuccessfullyExecutedCode": "data.columns",
        "id": "9e1e6611-b1af-4650-b480-d6ae077c2e1c",
        "outputId": "12165e36-cc75-42a9-9524-812648e4011e"
      },
      "cell_type": "code",
      "id": "9e1e6611-b1af-4650-b480-d6ae077c2e1c",
      "execution_count": null,
      "outputs": [
        {
          "output_type": "execute_result",
          "execution_count": 13,
          "data": {
            "text/plain": "Index(['client_id', 'age', 'job', 'marital', 'education', 'credit_default',\n       'housing', 'loan', 'contact', 'month', 'day_of_week', 'duration',\n       'campaign', 'pdays', 'previous', 'poutcome', 'emp_var_rate',\n       'cons_price_idx', 'cons_conf_idx', 'euribor3m', 'nr_employed', 'y'],\n      dtype='object')"
          },
          "metadata": {}
        }
      ]
    },
    {
      "source": [
        "#Get an overview of the dataset\n",
        "data.info"
      ],
      "metadata": {
        "executionTime": 270,
        "lastSuccessfullyExecutedCode": "data.info",
        "id": "acc964ed-0a9c-4966-a49c-b18be4756860",
        "outputId": "4d8b035e-57cf-48fe-9015-6046e4e0c694"
      },
      "cell_type": "code",
      "id": "acc964ed-0a9c-4966-a49c-b18be4756860",
      "execution_count": null,
      "outputs": [
        {
          "output_type": "execute_result",
          "execution_count": 15,
          "data": {
            "text/plain": "<bound method DataFrame.info of        client_id  age          job  ... euribor3m nr_employed    y\n0              0   56    housemaid  ...     4.857      5191.0   no\n1              1   57     services  ...     4.857      5191.0   no\n2              2   37     services  ...     4.857      5191.0   no\n3              3   40       admin.  ...     4.857      5191.0   no\n4              4   56     services  ...     4.857      5191.0   no\n...          ...  ...          ...  ...       ...         ...  ...\n41183      41183   73      retired  ...     1.028      4963.6  yes\n41184      41184   46  blue-collar  ...     1.028      4963.6   no\n41185      41185   56      retired  ...     1.028      4963.6   no\n41186      41186   44   technician  ...     1.028      4963.6  yes\n41187      41187   74      retired  ...     1.028      4963.6   no\n\n[41188 rows x 22 columns]>"
          },
          "metadata": {}
        }
      ]
    },
    {
      "source": [
        "#Get an overview of the data in the dataset and take note of the things that the Bank wants changed, added or deleted.\n",
        "data.head()"
      ],
      "metadata": {
        "executionTime": 313,
        "lastSuccessfullyExecutedCode": "data.head()",
        "visualizeDataframe": false,
        "chartConfig": {
          "bar": {
            "hasRoundedCorners": true,
            "stacked": false
          },
          "type": "bar",
          "version": "v1"
        },
        "id": "f6d1c03f-c55e-468d-800b-f50cb776b89b",
        "outputId": "77cb82eb-c545-434f-937b-171ac1ca049b"
      },
      "cell_type": "code",
      "id": "f6d1c03f-c55e-468d-800b-f50cb776b89b",
      "execution_count": null,
      "outputs": [
        {
          "output_type": "execute_result",
          "execution_count": 16,
          "data": {
            "application/com.datacamp.data-table.v1+json": {
              "table": {
                "schema": {
                  "fields": [
                    {
                      "name": "index",
                      "type": "integer"
                    },
                    {
                      "name": "client_id",
                      "type": "integer"
                    },
                    {
                      "name": "age",
                      "type": "integer"
                    },
                    {
                      "name": "job",
                      "type": "string"
                    },
                    {
                      "name": "marital",
                      "type": "string"
                    },
                    {
                      "name": "education",
                      "type": "string"
                    },
                    {
                      "name": "credit_default",
                      "type": "string"
                    },
                    {
                      "name": "housing",
                      "type": "string"
                    },
                    {
                      "name": "loan",
                      "type": "string"
                    },
                    {
                      "name": "contact",
                      "type": "string"
                    },
                    {
                      "name": "month",
                      "type": "string"
                    },
                    {
                      "name": "day_of_week",
                      "type": "string"
                    },
                    {
                      "name": "duration",
                      "type": "integer"
                    },
                    {
                      "name": "campaign",
                      "type": "integer"
                    },
                    {
                      "name": "pdays",
                      "type": "integer"
                    },
                    {
                      "name": "previous",
                      "type": "integer"
                    },
                    {
                      "name": "poutcome",
                      "type": "string"
                    },
                    {
                      "name": "emp_var_rate",
                      "type": "number"
                    },
                    {
                      "name": "cons_price_idx",
                      "type": "number"
                    },
                    {
                      "name": "cons_conf_idx",
                      "type": "number"
                    },
                    {
                      "name": "euribor3m",
                      "type": "number"
                    },
                    {
                      "name": "nr_employed",
                      "type": "number"
                    },
                    {
                      "name": "y",
                      "type": "string"
                    }
                  ],
                  "primaryKey": [
                    "index"
                  ],
                  "pandas_version": "1.4.0"
                },
                "data": [
                  {
                    "index": 0,
                    "client_id": 0,
                    "age": 56,
                    "job": "housemaid",
                    "marital": "married",
                    "education": "basic.4y",
                    "credit_default": "no",
                    "housing": "no",
                    "loan": "no",
                    "contact": "telephone",
                    "month": "may",
                    "day_of_week": "mon",
                    "duration": 261,
                    "campaign": 1,
                    "pdays": 999,
                    "previous": 0,
                    "poutcome": "nonexistent",
                    "emp_var_rate": 1.1,
                    "cons_price_idx": 93.994,
                    "cons_conf_idx": -36.4,
                    "euribor3m": 4.857,
                    "nr_employed": 5191,
                    "y": "no"
                  },
                  {
                    "index": 1,
                    "client_id": 1,
                    "age": 57,
                    "job": "services",
                    "marital": "married",
                    "education": "high.school",
                    "credit_default": "unknown",
                    "housing": "no",
                    "loan": "no",
                    "contact": "telephone",
                    "month": "may",
                    "day_of_week": "mon",
                    "duration": 149,
                    "campaign": 1,
                    "pdays": 999,
                    "previous": 0,
                    "poutcome": "nonexistent",
                    "emp_var_rate": 1.1,
                    "cons_price_idx": 93.994,
                    "cons_conf_idx": -36.4,
                    "euribor3m": 4.857,
                    "nr_employed": 5191,
                    "y": "no"
                  },
                  {
                    "index": 2,
                    "client_id": 2,
                    "age": 37,
                    "job": "services",
                    "marital": "married",
                    "education": "high.school",
                    "credit_default": "no",
                    "housing": "yes",
                    "loan": "no",
                    "contact": "telephone",
                    "month": "may",
                    "day_of_week": "mon",
                    "duration": 226,
                    "campaign": 1,
                    "pdays": 999,
                    "previous": 0,
                    "poutcome": "nonexistent",
                    "emp_var_rate": 1.1,
                    "cons_price_idx": 93.994,
                    "cons_conf_idx": -36.4,
                    "euribor3m": 4.857,
                    "nr_employed": 5191,
                    "y": "no"
                  },
                  {
                    "index": 3,
                    "client_id": 3,
                    "age": 40,
                    "job": "admin.",
                    "marital": "married",
                    "education": "basic.6y",
                    "credit_default": "no",
                    "housing": "no",
                    "loan": "no",
                    "contact": "telephone",
                    "month": "may",
                    "day_of_week": "mon",
                    "duration": 151,
                    "campaign": 1,
                    "pdays": 999,
                    "previous": 0,
                    "poutcome": "nonexistent",
                    "emp_var_rate": 1.1,
                    "cons_price_idx": 93.994,
                    "cons_conf_idx": -36.4,
                    "euribor3m": 4.857,
                    "nr_employed": 5191,
                    "y": "no"
                  },
                  {
                    "index": 4,
                    "client_id": 4,
                    "age": 56,
                    "job": "services",
                    "marital": "married",
                    "education": "high.school",
                    "credit_default": "no",
                    "housing": "no",
                    "loan": "yes",
                    "contact": "telephone",
                    "month": "may",
                    "day_of_week": "mon",
                    "duration": 307,
                    "campaign": 1,
                    "pdays": 999,
                    "previous": 0,
                    "poutcome": "nonexistent",
                    "emp_var_rate": 1.1,
                    "cons_price_idx": 93.994,
                    "cons_conf_idx": -36.4,
                    "euribor3m": 4.857,
                    "nr_employed": 5191,
                    "y": "no"
                  }
                ]
              },
              "total_rows": 5,
              "truncation_type": null
            },
            "text/plain": "   client_id  age        job  ... euribor3m nr_employed   y\n0          0   56  housemaid  ...     4.857      5191.0  no\n1          1   57   services  ...     4.857      5191.0  no\n2          2   37   services  ...     4.857      5191.0  no\n3          3   40     admin.  ...     4.857      5191.0  no\n4          4   56   services  ...     4.857      5191.0  no\n\n[5 rows x 22 columns]",
            "text/html": "<div>\n<style scoped>\n    .dataframe tbody tr th:only-of-type {\n        vertical-align: middle;\n    }\n\n    .dataframe tbody tr th {\n        vertical-align: top;\n    }\n\n    .dataframe thead th {\n        text-align: right;\n    }\n</style>\n<table border=\"1\" class=\"dataframe\">\n  <thead>\n    <tr style=\"text-align: right;\">\n      <th></th>\n      <th>client_id</th>\n      <th>age</th>\n      <th>job</th>\n      <th>marital</th>\n      <th>education</th>\n      <th>credit_default</th>\n      <th>housing</th>\n      <th>loan</th>\n      <th>contact</th>\n      <th>month</th>\n      <th>day_of_week</th>\n      <th>duration</th>\n      <th>campaign</th>\n      <th>pdays</th>\n      <th>previous</th>\n      <th>poutcome</th>\n      <th>emp_var_rate</th>\n      <th>cons_price_idx</th>\n      <th>cons_conf_idx</th>\n      <th>euribor3m</th>\n      <th>nr_employed</th>\n      <th>y</th>\n    </tr>\n  </thead>\n  <tbody>\n    <tr>\n      <th>0</th>\n      <td>0</td>\n      <td>56</td>\n      <td>housemaid</td>\n      <td>married</td>\n      <td>basic.4y</td>\n      <td>no</td>\n      <td>no</td>\n      <td>no</td>\n      <td>telephone</td>\n      <td>may</td>\n      <td>mon</td>\n      <td>261</td>\n      <td>1</td>\n      <td>999</td>\n      <td>0</td>\n      <td>nonexistent</td>\n      <td>1.1</td>\n      <td>93.994</td>\n      <td>-36.4</td>\n      <td>4.857</td>\n      <td>5191.0</td>\n      <td>no</td>\n    </tr>\n    <tr>\n      <th>1</th>\n      <td>1</td>\n      <td>57</td>\n      <td>services</td>\n      <td>married</td>\n      <td>high.school</td>\n      <td>unknown</td>\n      <td>no</td>\n      <td>no</td>\n      <td>telephone</td>\n      <td>may</td>\n      <td>mon</td>\n      <td>149</td>\n      <td>1</td>\n      <td>999</td>\n      <td>0</td>\n      <td>nonexistent</td>\n      <td>1.1</td>\n      <td>93.994</td>\n      <td>-36.4</td>\n      <td>4.857</td>\n      <td>5191.0</td>\n      <td>no</td>\n    </tr>\n    <tr>\n      <th>2</th>\n      <td>2</td>\n      <td>37</td>\n      <td>services</td>\n      <td>married</td>\n      <td>high.school</td>\n      <td>no</td>\n      <td>yes</td>\n      <td>no</td>\n      <td>telephone</td>\n      <td>may</td>\n      <td>mon</td>\n      <td>226</td>\n      <td>1</td>\n      <td>999</td>\n      <td>0</td>\n      <td>nonexistent</td>\n      <td>1.1</td>\n      <td>93.994</td>\n      <td>-36.4</td>\n      <td>4.857</td>\n      <td>5191.0</td>\n      <td>no</td>\n    </tr>\n    <tr>\n      <th>3</th>\n      <td>3</td>\n      <td>40</td>\n      <td>admin.</td>\n      <td>married</td>\n      <td>basic.6y</td>\n      <td>no</td>\n      <td>no</td>\n      <td>no</td>\n      <td>telephone</td>\n      <td>may</td>\n      <td>mon</td>\n      <td>151</td>\n      <td>1</td>\n      <td>999</td>\n      <td>0</td>\n      <td>nonexistent</td>\n      <td>1.1</td>\n      <td>93.994</td>\n      <td>-36.4</td>\n      <td>4.857</td>\n      <td>5191.0</td>\n      <td>no</td>\n    </tr>\n    <tr>\n      <th>4</th>\n      <td>4</td>\n      <td>56</td>\n      <td>services</td>\n      <td>married</td>\n      <td>high.school</td>\n      <td>no</td>\n      <td>no</td>\n      <td>yes</td>\n      <td>telephone</td>\n      <td>may</td>\n      <td>mon</td>\n      <td>307</td>\n      <td>1</td>\n      <td>999</td>\n      <td>0</td>\n      <td>nonexistent</td>\n      <td>1.1</td>\n      <td>93.994</td>\n      <td>-36.4</td>\n      <td>4.857</td>\n      <td>5191.0</td>\n      <td>no</td>\n    </tr>\n  </tbody>\n</table>\n</div>"
          },
          "metadata": {}
        }
      ]
    },
    {
      "cell_type": "markdown",
      "source": [
        "Now that we know what the dataset looks like, we can proceed to transforming the dataset. \n",
        "\n",
        "First things first, the bank database is to have three tables: client, campaign and economic. Therefore, we will split the *bank_marketing.csv* into three with the respective columns."
      ],
      "metadata": {
        "id": "sMl6alQ3hEh4"
      },
      "id": "sMl6alQ3hEh4"
    },
    {
      "source": [
        "client = data[[\"client_id\", \"age\", \"job\", \"marital\", \"education\", \"credit_default\", \"housing\", \"loan\"]]\n",
        "\n",
        "campaign = data[[\"client_id\", \"campaign\", \"month\", \"day_of_week\", \n",
        "               \"duration\", \"pdays\", \"previous\", \"poutcome\", \"y\"]]\n",
        "\n",
        "economics = data[[\"client_id\", \"emp_var_rate\", \"cons_price_idx\", \n",
        "                \"euribor3m\", \"nr_employed\"]]"
      ],
      "metadata": {
        "executionTime": 26,
        "lastSuccessfullyExecutedCode": "client = data[[\"client_id\", \"age\", \"job\", \"marital\", \"education\", \"credit_default\", \"housing\", \"loan\"]]\n\ncampaign = data[[\"client_id\", \"campaign\", \"month\", \"day_of_week\", \n               \"duration\", \"pdays\", \"previous\", \"poutcome\", \"y\"]]\n\neconomics = data[[\"client_id\", \"emp_var_rate\", \"cons_price_idx\", \n                \"euribor3m\", \"nr_employed\"]]",
        "id": "ce8bcc8b-5a55-4391-b72b-64135e2d06b9"
      },
      "cell_type": "code",
      "id": "ce8bcc8b-5a55-4391-b72b-64135e2d06b9",
      "execution_count": null,
      "outputs": []
    },
    {
      "cell_type": "markdown",
      "source": [
        "Then we will rename columns as follows: \n",
        "\n",
        "*  \"client_id\" to \"id\" in client. *(leave as-is in the other subsets)*;\n",
        "*    \"duration\" to \"contact_duration\", \"previous\" to \"previous_campaign_contacts\", \"y\" to \"campaign_outcome\", \"poutcome\" to \"previous_outcome\", and \"campaign\" to \"number_contacts\" in campaign;\n",
        "* \"euribor3m\" to \"euribor_three_months\" and \"nr_employed\" to \"number_employed\" in economics."
      ],
      "metadata": {
        "id": "rNmbs7VGh8Dh"
      },
      "id": "rNmbs7VGh8Dh"
    },
    {
      "source": [
        "client.rename(columns={\"client_id\":\"id\"}, inplace=True)\n",
        "\n",
        "campaign.rename(columns={\"duration\":\"contact_duration\", \"previous\":\"previous_campaign_contacts\", \"y\":\"campaign_outcome\", \"poutcome\":\"previous_outcome\", \"campaign\":\"number_contacts\"}, inplace=True)\n",
        "\n",
        "economics.rename(columns={\"euribor3m\":\"euribor_three_months\", \"nr_employed\":\"number_employed\"}, inplace=True)\n"
      ],
      "metadata": {
        "executionTime": 22,
        "lastSuccessfullyExecutedCode": "client.rename(columns={\"client_id\":\"id\"}, inplace=True)\n\ncampaign.rename(columns={\"duration\":\"contact_duration\", \"previous\":\"previous_campaign_contacts\", \"y\":\"campaign_outcome\", \"poutcome\":\"previous_outcome\", \"campaign\":\"number_contacts\"}, inplace=True)\n\neconomics.rename(columns={\"euribor3m\":\"euribor_three_months\", \"nr_employed\":\"number_employed\"}, inplace=True)\n",
        "id": "177f5657-1fdc-4b58-be5d-668cf3fed1b8"
      },
      "cell_type": "code",
      "id": "177f5657-1fdc-4b58-be5d-668cf3fed1b8",
      "execution_count": null,
      "outputs": []
    },
    {
      "cell_type": "markdown",
      "source": [
        "We check the columns for each table to ensure the changes were successful.\n",
        "***NOTE: Uncomment the table you want to check & ensure the other two are commented.***"
      ],
      "metadata": {
        "id": "XjNkP45ziZ-v"
      },
      "id": "XjNkP45ziZ-v"
    },
    {
      "source": [
        "client.columns\n",
        "# campaign.columns\n",
        "# economics.columns"
      ],
      "metadata": {
        "executionTime": 280,
        "lastSuccessfullyExecutedCode": "client.columns\n# campaign.columns\n# economics.columns",
        "id": "65b49e93-57be-4eab-bcff-a892d8b8149b",
        "outputId": "e35519b6-79ea-4111-a7d4-1c40918350fe"
      },
      "cell_type": "code",
      "id": "65b49e93-57be-4eab-bcff-a892d8b8149b",
      "execution_count": null,
      "outputs": [
        {
          "output_type": "execute_result",
          "execution_count": 18,
          "data": {
            "text/plain": "Index(['id', 'age', 'job', 'marital', 'education', 'credit_default', 'housing',\n       'loan'],\n      dtype='object')"
          },
          "metadata": {}
        }
      ]
    },
    {
      "cell_type": "markdown",
      "source": [
        "Next we will clean up the data in the columns. \n",
        "\n",
        "**For client:**\n",
        "*   In the \"education\" column, changing \".\" to \"_\" and \"unknown\" to NumPy's null values.\n",
        "*   Remove periods from the \"job\" column.\n",
        "\n",
        "**For campaign:**\n",
        "\n",
        "*   Convert \"previous_outcome\" and \"campaign_outcome\" values to binary (1 or 0), including the conversion of \"nonexistent\" to 0.\n",
        "\n"
      ],
      "metadata": {
        "id": "tPGnmmr4i4VN"
      },
      "id": "tPGnmmr4i4VN"
    },
    {
      "source": [
        "client.head()"
      ],
      "metadata": {
        "executionTime": 530,
        "lastSuccessfullyExecutedCode": "client.head()",
        "id": "9034aa57-7f59-4604-bb99-bc7e705710a8",
        "outputId": "0110b333-a2bb-431a-b125-391a95379218"
      },
      "cell_type": "code",
      "id": "9034aa57-7f59-4604-bb99-bc7e705710a8",
      "execution_count": null,
      "outputs": [
        {
          "output_type": "execute_result",
          "execution_count": 24,
          "data": {
            "application/com.datacamp.data-table.v1+json": {
              "table": {
                "schema": {
                  "fields": [
                    {
                      "name": "index",
                      "type": "integer"
                    },
                    {
                      "name": "id",
                      "type": "integer"
                    },
                    {
                      "name": "age",
                      "type": "integer"
                    },
                    {
                      "name": "job",
                      "type": "string"
                    },
                    {
                      "name": "marital",
                      "type": "string"
                    },
                    {
                      "name": "education",
                      "type": "string"
                    },
                    {
                      "name": "credit_default",
                      "type": "string"
                    },
                    {
                      "name": "housing",
                      "type": "string"
                    },
                    {
                      "name": "loan",
                      "type": "string"
                    }
                  ],
                  "primaryKey": [
                    "index"
                  ],
                  "pandas_version": "1.4.0"
                },
                "data": [
                  {
                    "index": 0,
                    "id": 0,
                    "age": 56,
                    "job": "housemaid",
                    "marital": "married",
                    "education": "basic_4y",
                    "credit_default": "no",
                    "housing": "no",
                    "loan": "no"
                  },
                  {
                    "index": 1,
                    "id": 1,
                    "age": 57,
                    "job": "services",
                    "marital": "married",
                    "education": "high_school",
                    "credit_default": "unknown",
                    "housing": "no",
                    "loan": "no"
                  },
                  {
                    "index": 2,
                    "id": 2,
                    "age": 37,
                    "job": "services",
                    "marital": "married",
                    "education": "high_school",
                    "credit_default": "no",
                    "housing": "yes",
                    "loan": "no"
                  },
                  {
                    "index": 3,
                    "id": 3,
                    "age": 40,
                    "job": "admin",
                    "marital": "married",
                    "education": "basic_6y",
                    "credit_default": "no",
                    "housing": "no",
                    "loan": "no"
                  },
                  {
                    "index": 4,
                    "id": 4,
                    "age": 56,
                    "job": "services",
                    "marital": "married",
                    "education": "high_school",
                    "credit_default": "no",
                    "housing": "no",
                    "loan": "yes"
                  }
                ]
              },
              "total_rows": 5,
              "truncation_type": null
            },
            "text/plain": "   id  age        job  marital    education credit_default housing loan\n0   0   56  housemaid  married     basic_4y             no      no   no\n1   1   57   services  married  high_school        unknown      no   no\n2   2   37   services  married  high_school             no     yes   no\n3   3   40      admin  married     basic_6y             no      no   no\n4   4   56   services  married  high_school             no      no  yes",
            "text/html": "<div>\n<style scoped>\n    .dataframe tbody tr th:only-of-type {\n        vertical-align: middle;\n    }\n\n    .dataframe tbody tr th {\n        vertical-align: top;\n    }\n\n    .dataframe thead th {\n        text-align: right;\n    }\n</style>\n<table border=\"1\" class=\"dataframe\">\n  <thead>\n    <tr style=\"text-align: right;\">\n      <th></th>\n      <th>id</th>\n      <th>age</th>\n      <th>job</th>\n      <th>marital</th>\n      <th>education</th>\n      <th>credit_default</th>\n      <th>housing</th>\n      <th>loan</th>\n    </tr>\n  </thead>\n  <tbody>\n    <tr>\n      <th>0</th>\n      <td>0</td>\n      <td>56</td>\n      <td>housemaid</td>\n      <td>married</td>\n      <td>basic_4y</td>\n      <td>no</td>\n      <td>no</td>\n      <td>no</td>\n    </tr>\n    <tr>\n      <th>1</th>\n      <td>1</td>\n      <td>57</td>\n      <td>services</td>\n      <td>married</td>\n      <td>high_school</td>\n      <td>unknown</td>\n      <td>no</td>\n      <td>no</td>\n    </tr>\n    <tr>\n      <th>2</th>\n      <td>2</td>\n      <td>37</td>\n      <td>services</td>\n      <td>married</td>\n      <td>high_school</td>\n      <td>no</td>\n      <td>yes</td>\n      <td>no</td>\n    </tr>\n    <tr>\n      <th>3</th>\n      <td>3</td>\n      <td>40</td>\n      <td>admin</td>\n      <td>married</td>\n      <td>basic_6y</td>\n      <td>no</td>\n      <td>no</td>\n      <td>no</td>\n    </tr>\n    <tr>\n      <th>4</th>\n      <td>4</td>\n      <td>56</td>\n      <td>services</td>\n      <td>married</td>\n      <td>high_school</td>\n      <td>no</td>\n      <td>no</td>\n      <td>yes</td>\n    </tr>\n  </tbody>\n</table>\n</div>"
          },
          "metadata": {}
        }
      ]
    },
    {
      "source": [
        "client[\"education\"] = client[\"education\"].str.replace(\".\", \"_\")\n",
        "client[\"education\"] = client[\"education\"].replace(\"unknown\", np.NaN)\n",
        "client[\"job\"] = client[\"job\"].str.replace(\".\", \"\")"
      ],
      "metadata": {
        "executionTime": 1052,
        "lastSuccessfullyExecutedCode": "client[\"education\"] = client[\"education\"].str.replace(\".\", \"_\")\nclient[\"education\"] = client[\"education\"].replace(\"unknown\", np.NaN)\nclient[\"job\"] = client[\"job\"].str.replace(\".\", \"\")",
        "id": "4da1dd4c-842d-43be-be62-5d15412885bd"
      },
      "cell_type": "code",
      "id": "4da1dd4c-842d-43be-be62-5d15412885bd",
      "execution_count": null,
      "outputs": []
    },
    {
      "source": [
        "campaign.tail()"
      ],
      "metadata": {
        "executionTime": 41,
        "lastSuccessfullyExecutedCode": "campaign.tail()",
        "id": "09ef1f13-3ee9-4b9e-9ccf-d2cb4113f816",
        "outputId": "b583675d-26ad-42ca-f40b-ad38ef0f5a55"
      },
      "cell_type": "code",
      "id": "09ef1f13-3ee9-4b9e-9ccf-d2cb4113f816",
      "execution_count": null,
      "outputs": [
        {
          "output_type": "execute_result",
          "execution_count": 48,
          "data": {
            "application/com.datacamp.data-table.v1+json": {
              "table": {
                "schema": {
                  "fields": [
                    {
                      "name": "index",
                      "type": "integer"
                    },
                    {
                      "name": "campaign_id",
                      "type": "integer"
                    },
                    {
                      "name": "client_id",
                      "type": "integer"
                    },
                    {
                      "name": "number_contacts",
                      "type": "integer"
                    },
                    {
                      "name": "contact_duration",
                      "type": "integer"
                    },
                    {
                      "name": "pdays",
                      "type": "integer"
                    },
                    {
                      "name": "previous_campaign_contacts",
                      "type": "integer"
                    },
                    {
                      "name": "previous_outcome",
                      "type": "integer"
                    },
                    {
                      "name": "campaign_outcome",
                      "type": "string"
                    },
                    {
                      "name": "last_contact_date",
                      "type": "string"
                    }
                  ],
                  "primaryKey": [
                    "index"
                  ],
                  "pandas_version": "1.4.0"
                },
                "data": [
                  {
                    "index": 41183,
                    "campaign_id": 1,
                    "client_id": 41183,
                    "number_contacts": 1,
                    "contact_duration": 334,
                    "pdays": 999,
                    "previous_campaign_contacts": 0,
                    "previous_outcome": 0,
                    "campaign_outcome": 0,
                    "last_contact_date": "nov-fri-2022"
                  },
                  {
                    "index": 41184,
                    "campaign_id": 1,
                    "client_id": 41184,
                    "number_contacts": 1,
                    "contact_duration": 383,
                    "pdays": 999,
                    "previous_campaign_contacts": 0,
                    "previous_outcome": 0,
                    "campaign_outcome": 0,
                    "last_contact_date": "nov-fri-2022"
                  },
                  {
                    "index": 41185,
                    "campaign_id": 1,
                    "client_id": 41185,
                    "number_contacts": 2,
                    "contact_duration": 189,
                    "pdays": 999,
                    "previous_campaign_contacts": 0,
                    "previous_outcome": 0,
                    "campaign_outcome": 0,
                    "last_contact_date": "nov-fri-2022"
                  },
                  {
                    "index": 41186,
                    "campaign_id": 1,
                    "client_id": 41186,
                    "number_contacts": 1,
                    "contact_duration": 442,
                    "pdays": 999,
                    "previous_campaign_contacts": 0,
                    "previous_outcome": 0,
                    "campaign_outcome": 0,
                    "last_contact_date": "nov-fri-2022"
                  },
                  {
                    "index": 41187,
                    "campaign_id": 1,
                    "client_id": 41187,
                    "number_contacts": 3,
                    "contact_duration": 239,
                    "pdays": 999,
                    "previous_campaign_contacts": 1,
                    "previous_outcome": 0,
                    "campaign_outcome": 0,
                    "last_contact_date": "nov-fri-2022"
                  }
                ]
              },
              "total_rows": 5,
              "truncation_type": null
            },
            "text/plain": "       campaign_id  client_id  ...  campaign_outcome  last_contact_date\n41183            1      41183  ...                 0       nov-fri-2022\n41184            1      41184  ...                 0       nov-fri-2022\n41185            1      41185  ...                 0       nov-fri-2022\n41186            1      41186  ...                 0       nov-fri-2022\n41187            1      41187  ...                 0       nov-fri-2022\n\n[5 rows x 9 columns]",
            "text/html": "<div>\n<style scoped>\n    .dataframe tbody tr th:only-of-type {\n        vertical-align: middle;\n    }\n\n    .dataframe tbody tr th {\n        vertical-align: top;\n    }\n\n    .dataframe thead th {\n        text-align: right;\n    }\n</style>\n<table border=\"1\" class=\"dataframe\">\n  <thead>\n    <tr style=\"text-align: right;\">\n      <th></th>\n      <th>campaign_id</th>\n      <th>client_id</th>\n      <th>number_contacts</th>\n      <th>contact_duration</th>\n      <th>pdays</th>\n      <th>previous_campaign_contacts</th>\n      <th>previous_outcome</th>\n      <th>campaign_outcome</th>\n      <th>last_contact_date</th>\n    </tr>\n  </thead>\n  <tbody>\n    <tr>\n      <th>41183</th>\n      <td>1</td>\n      <td>41183</td>\n      <td>1</td>\n      <td>334</td>\n      <td>999</td>\n      <td>0</td>\n      <td>0</td>\n      <td>0</td>\n      <td>nov-fri-2022</td>\n    </tr>\n    <tr>\n      <th>41184</th>\n      <td>1</td>\n      <td>41184</td>\n      <td>1</td>\n      <td>383</td>\n      <td>999</td>\n      <td>0</td>\n      <td>0</td>\n      <td>0</td>\n      <td>nov-fri-2022</td>\n    </tr>\n    <tr>\n      <th>41185</th>\n      <td>1</td>\n      <td>41185</td>\n      <td>2</td>\n      <td>189</td>\n      <td>999</td>\n      <td>0</td>\n      <td>0</td>\n      <td>0</td>\n      <td>nov-fri-2022</td>\n    </tr>\n    <tr>\n      <th>41186</th>\n      <td>1</td>\n      <td>41186</td>\n      <td>1</td>\n      <td>442</td>\n      <td>999</td>\n      <td>0</td>\n      <td>0</td>\n      <td>0</td>\n      <td>nov-fri-2022</td>\n    </tr>\n    <tr>\n      <th>41187</th>\n      <td>1</td>\n      <td>41187</td>\n      <td>3</td>\n      <td>239</td>\n      <td>999</td>\n      <td>1</td>\n      <td>0</td>\n      <td>0</td>\n      <td>nov-fri-2022</td>\n    </tr>\n  </tbody>\n</table>\n</div>"
          },
          "metadata": {}
        }
      ]
    },
    {
      "source": [
        "campaign[\"campaign_outcome\"] = campaign[\"campaign_outcome\"].replace(\"yes\", 1).replace(\"no\", 0).replace(\"failure\", 0)\n",
        "\n",
        "campaign[\"previous_outcome\"] = campaign[\"previous_outcome\"].replace(\"nonexistent\", 0).replace(\"failure\", 0).replace(\"success\", 1)"
      ],
      "metadata": {
        "executionTime": 30,
        "lastSuccessfullyExecutedCode": "campaign[\"campaign_outcome\"] = campaign[\"campaign_outcome\"].replace(\"yes\", 1).replace(\"no\", 0).replace(\"failure\", 0)\n\ncampaign[\"previous_outcome\"] = campaign[\"previous_outcome\"].replace(\"nonexistent\", 0).replace(\"failure\", 0).replace(\"success\", 1)",
        "id": "0f0591ef-e08e-40bb-a11b-2174848d815c"
      },
      "cell_type": "code",
      "id": "0f0591ef-e08e-40bb-a11b-2174848d815c",
      "execution_count": null,
      "outputs": []
    },
    {
      "cell_type": "markdown",
      "source": [
        "Next in the campaign, we add a campaign_id as the first column in campaign, where all rows have a value of 1.\n",
        "\n",
        "We also create a datetime column called last_contact_date, in the format of \"month-day-year\", where the year is 2022, and the month and day values are taken from the \"month\" and \"day_of_week\" columns."
      ],
      "metadata": {
        "id": "dILsDK1YkVO9"
      },
      "id": "dILsDK1YkVO9"
    },
    {
      "source": [
        "campaign[\"year\"] = \"2022\"\n",
        "campaign[\"last_contact_date\"] = campaign[\"month\"] + \"-\" + campaign[\"day_of_week\"] + \"-\" + campaign[\"year\"]\n",
        "\n",
        "campaign[\"campaign_id\"] = 1"
      ],
      "metadata": {
        "executionTime": 126,
        "lastSuccessfullyExecutedCode": "campaign[\"year\"] = \"2022\"\ncampaign[\"last_contact_date\"] = campaign[\"month\"] + \"-\" + campaign[\"day_of_week\"] + \"-\" + campaign[\"year\"]\n\ncampaign[\"campaign_id\"] = 1",
        "id": "1e519220-5e50-4a7b-8cf1-b7d731b90ddd"
      },
      "cell_type": "code",
      "id": "1e519220-5e50-4a7b-8cf1-b7d731b90ddd",
      "execution_count": null,
      "outputs": []
    },
    {
      "source": [
        "#rearrange columns to make campaign_id first\n",
        "campaign = campaign[[\"campaign_id\",\n",
        "    \"client_id\",\n",
        "    \"number_contacts\",\n",
        "    \"month\",\n",
        "    \"day_of_week\",\n",
        "    \"contact_duration\",\n",
        "    \"pdays\",\n",
        "    \"previous_campaign_contacts\",\n",
        "    \"previous_outcome\",\n",
        "    \"campaign_outcome\",\n",
        "    \"year\",\n",
        "    \"last_contact_date\"\n",
        "    ]]"
      ],
      "metadata": {
        "executionTime": 267,
        "lastSuccessfullyExecutedCode": "campaign = campaign[[\"campaign_id\",\n    \"client_id\",\n    \"number_contacts\",\n    \"month\",\n    \"day_of_week\",\n    \"contact_duration\",\n    \"pdays\",\n    \"previous_campaign_contacts\",\n    \"previous_outcome\",\n    \"campaign_outcome\",\n    \"year\",\n    \"last_contact_date\"\n    ]]",
        "id": "076c65be-0229-46d2-813a-b5b26c39c185"
      },
      "cell_type": "code",
      "id": "076c65be-0229-46d2-813a-b5b26c39c185",
      "execution_count": null,
      "outputs": []
    },
    {
      "source": [
        "#Ensure all changes were successful\n",
        "campaign.head()"
      ],
      "metadata": {
        "executionTime": 53,
        "lastSuccessfullyExecutedCode": "campaign.head()",
        "id": "2fd574f7-da3a-44f6-8ed4-ca5e32bd4bb2",
        "outputId": "030252bf-807b-4bcc-f5ba-2d45abeed12f"
      },
      "cell_type": "code",
      "id": "2fd574f7-da3a-44f6-8ed4-ca5e32bd4bb2",
      "execution_count": null,
      "outputs": [
        {
          "output_type": "execute_result",
          "execution_count": 45,
          "data": {
            "application/com.datacamp.data-table.v1+json": {
              "table": {
                "schema": {
                  "fields": [
                    {
                      "name": "index",
                      "type": "integer"
                    },
                    {
                      "name": "campaign_id",
                      "type": "integer"
                    },
                    {
                      "name": "client_id",
                      "type": "integer"
                    },
                    {
                      "name": "number_contacts",
                      "type": "integer"
                    },
                    {
                      "name": "contact_duration",
                      "type": "integer"
                    },
                    {
                      "name": "pdays",
                      "type": "integer"
                    },
                    {
                      "name": "previous_campaign_contacts",
                      "type": "integer"
                    },
                    {
                      "name": "previous_outcome",
                      "type": "integer"
                    },
                    {
                      "name": "campaign_outcome",
                      "type": "string"
                    },
                    {
                      "name": "last_contact_date",
                      "type": "string"
                    }
                  ],
                  "primaryKey": [
                    "index"
                  ],
                  "pandas_version": "1.4.0"
                },
                "data": [
                  {
                    "index": 0,
                    "campaign_id": 1,
                    "client_id": 0,
                    "number_contacts": 1,
                    "contact_duration": 261,
                    "pdays": 999,
                    "previous_campaign_contacts": 0,
                    "previous_outcome": 0,
                    "campaign_outcome": 0,
                    "last_contact_date": "may-mon-2022"
                  },
                  {
                    "index": 1,
                    "campaign_id": 1,
                    "client_id": 1,
                    "number_contacts": 1,
                    "contact_duration": 149,
                    "pdays": 999,
                    "previous_campaign_contacts": 0,
                    "previous_outcome": 0,
                    "campaign_outcome": 0,
                    "last_contact_date": "may-mon-2022"
                  },
                  {
                    "index": 2,
                    "campaign_id": 1,
                    "client_id": 2,
                    "number_contacts": 1,
                    "contact_duration": 226,
                    "pdays": 999,
                    "previous_campaign_contacts": 0,
                    "previous_outcome": 0,
                    "campaign_outcome": 0,
                    "last_contact_date": "may-mon-2022"
                  },
                  {
                    "index": 3,
                    "campaign_id": 1,
                    "client_id": 3,
                    "number_contacts": 1,
                    "contact_duration": 151,
                    "pdays": 999,
                    "previous_campaign_contacts": 0,
                    "previous_outcome": 0,
                    "campaign_outcome": 0,
                    "last_contact_date": "may-mon-2022"
                  },
                  {
                    "index": 4,
                    "campaign_id": 1,
                    "client_id": 4,
                    "number_contacts": 1,
                    "contact_duration": 307,
                    "pdays": 999,
                    "previous_campaign_contacts": 0,
                    "previous_outcome": 0,
                    "campaign_outcome": 0,
                    "last_contact_date": "may-mon-2022"
                  }
                ]
              },
              "total_rows": 5,
              "truncation_type": null
            },
            "text/plain": "   campaign_id  client_id  ...  campaign_outcome  last_contact_date\n0            1          0  ...                 0       may-mon-2022\n1            1          1  ...                 0       may-mon-2022\n2            1          2  ...                 0       may-mon-2022\n3            1          3  ...                 0       may-mon-2022\n4            1          4  ...                 0       may-mon-2022\n\n[5 rows x 9 columns]",
            "text/html": "<div>\n<style scoped>\n    .dataframe tbody tr th:only-of-type {\n        vertical-align: middle;\n    }\n\n    .dataframe tbody tr th {\n        vertical-align: top;\n    }\n\n    .dataframe thead th {\n        text-align: right;\n    }\n</style>\n<table border=\"1\" class=\"dataframe\">\n  <thead>\n    <tr style=\"text-align: right;\">\n      <th></th>\n      <th>campaign_id</th>\n      <th>client_id</th>\n      <th>number_contacts</th>\n      <th>contact_duration</th>\n      <th>pdays</th>\n      <th>previous_campaign_contacts</th>\n      <th>previous_outcome</th>\n      <th>campaign_outcome</th>\n      <th>last_contact_date</th>\n    </tr>\n  </thead>\n  <tbody>\n    <tr>\n      <th>0</th>\n      <td>1</td>\n      <td>0</td>\n      <td>1</td>\n      <td>261</td>\n      <td>999</td>\n      <td>0</td>\n      <td>0</td>\n      <td>0</td>\n      <td>may-mon-2022</td>\n    </tr>\n    <tr>\n      <th>1</th>\n      <td>1</td>\n      <td>1</td>\n      <td>1</td>\n      <td>149</td>\n      <td>999</td>\n      <td>0</td>\n      <td>0</td>\n      <td>0</td>\n      <td>may-mon-2022</td>\n    </tr>\n    <tr>\n      <th>2</th>\n      <td>1</td>\n      <td>2</td>\n      <td>1</td>\n      <td>226</td>\n      <td>999</td>\n      <td>0</td>\n      <td>0</td>\n      <td>0</td>\n      <td>may-mon-2022</td>\n    </tr>\n    <tr>\n      <th>3</th>\n      <td>1</td>\n      <td>3</td>\n      <td>1</td>\n      <td>151</td>\n      <td>999</td>\n      <td>0</td>\n      <td>0</td>\n      <td>0</td>\n      <td>may-mon-2022</td>\n    </tr>\n    <tr>\n      <th>4</th>\n      <td>1</td>\n      <td>4</td>\n      <td>1</td>\n      <td>307</td>\n      <td>999</td>\n      <td>0</td>\n      <td>0</td>\n      <td>0</td>\n      <td>may-mon-2022</td>\n    </tr>\n  </tbody>\n</table>\n</div>"
          },
          "metadata": {}
        }
      ]
    },
    {
      "cell_type": "markdown",
      "source": [
        "Then we drop unnecessary columns, ensuring the columns in each subset of the data match the table displayed at the beginning of the notebook.  "
      ],
      "metadata": {
        "id": "Ah9fefiBnnuE"
      },
      "id": "Ah9fefiBnnuE"
    },
    {
      "source": [
        "campaign.drop(columns=[\"month\", \"year\", \"day_of_week\"], inplace=True)"
      ],
      "metadata": {
        "executionTime": 765,
        "lastSuccessfullyExecutedCode": "campaign.drop(columns=[\"month\", \"year\", \"day_of_week\"], inplace=True)",
        "id": "8d1612be-d242-4f3a-822d-034f61451c00"
      },
      "cell_type": "code",
      "id": "8d1612be-d242-4f3a-822d-034f61451c00",
      "execution_count": null,
      "outputs": []
    },
    {
      "cell_type": "markdown",
      "source": [
        "Save the three subsets into csv files without an index"
      ],
      "metadata": {
        "id": "squSuGlqoi8R"
      },
      "id": "squSuGlqoi8R"
    },
    {
      "source": [
        "client.to_csv(\"client.csv\", index=False)\n",
        "campaign.to_csv(\"campaign.csv\", index=False)\n",
        "economics.to_csv(\"economics.csv\", index=False)"
      ],
      "metadata": {
        "executionTime": 407,
        "lastSuccessfullyExecutedCode": "client.to_csv(\"client.csv\", index=False)\ncampaign.to_csv(\"campaign.csv\", index=False)\neconomics.to_csv(\"economics.csv\", index=False)",
        "id": "e041c13b-4dbf-4407-951a-8e04a0409680"
      },
      "cell_type": "code",
      "id": "e041c13b-4dbf-4407-951a-8e04a0409680",
      "execution_count": null,
      "outputs": []
    },
    {
      "cell_type": "markdown",
      "source": [
        "Lastly, we Create a dictionary called database_design using the three table names as keys and assigning values as the respective subset DataFrames you have created."
      ],
      "metadata": {
        "id": "5oktlZNHoh44"
      },
      "id": "5oktlZNHoh44"
    },
    {
      "source": [
        "# Store and print database_design\n",
        "database_design = {\"client\": client,\n",
        "                  \"campaign\": campaign,\n",
        "                  \"economics\": economics}\n",
        "\n",
        "print(database_design)"
      ],
      "metadata": {
        "executionTime": 63,
        "lastSuccessfullyExecutedCode": "# Store and print database_design\ndatabase_design = {\"client\": client,\n                  \"campaign\": campaign,\n                  \"economics\": economics}\n\nprint(database_design)",
        "id": "334028fb-6e29-48c8-b41f-3dc8fb0c3bc3",
        "outputId": "b7be7913-682e-42d3-c25b-101bce9bd56d"
      },
      "id": "334028fb-6e29-48c8-b41f-3dc8fb0c3bc3",
      "cell_type": "code",
      "execution_count": null,
      "outputs": [
        {
          "output_type": "stream",
          "name": "stdout",
          "text": "{'client':           id  age          job  ... credit_default housing loan\n0          0   56    housemaid  ...             no      no   no\n1          1   57     services  ...        unknown      no   no\n2          2   37     services  ...             no     yes   no\n3          3   40        admin  ...             no      no   no\n4          4   56     services  ...             no      no  yes\n...      ...  ...          ...  ...            ...     ...  ...\n41183  41183   73      retired  ...             no     yes   no\n41184  41184   46  blue-collar  ...             no      no   no\n41185  41185   56      retired  ...             no     yes   no\n41186  41186   44   technician  ...             no      no   no\n41187  41187   74      retired  ...             no     yes   no\n\n[41188 rows x 8 columns], 'campaign':        campaign_id  client_id  ...  campaign_outcome  last_contact_date\n0                1          0  ...                 0       may-mon-2022\n1                1          1  ...                 0       may-mon-2022\n2                1          2  ...                 0       may-mon-2022\n3                1          3  ...                 0       may-mon-2022\n4                1          4  ...                 0       may-mon-2022\n...            ...        ...  ...               ...                ...\n41183            1      41183  ...                 0       nov-fri-2022\n41184            1      41184  ...                 0       nov-fri-2022\n41185            1      41185  ...                 0       nov-fri-2022\n41186            1      41186  ...                 0       nov-fri-2022\n41187            1      41187  ...                 0       nov-fri-2022\n\n[41188 rows x 9 columns], 'economics':        client_id  emp_var_rate  ...  euribor_three_months  number_employed\n0              0           1.1  ...                 4.857           5191.0\n1              1           1.1  ...                 4.857           5191.0\n2              2           1.1  ...                 4.857           5191.0\n3              3           1.1  ...                 4.857           5191.0\n4              4           1.1  ...                 4.857           5191.0\n...          ...           ...  ...                   ...              ...\n41183      41183          -1.1  ...                 1.028           4963.6\n41184      41184          -1.1  ...                 1.028           4963.6\n41185      41185          -1.1  ...                 1.028           4963.6\n41186      41186          -1.1  ...                 1.028           4963.6\n41187      41187          -1.1  ...                 1.028           4963.6\n\n[41188 rows x 5 columns]}\n"
        }
      ]
    },
    {
      "cell_type": "markdown",
      "source": [
        "**Once we are done cleaning and reformatting the data, we also have to provide the bank with a .sql file that contains SQL code that the bank can execute to create the tables and populate with the data from the csv files.**"
      ],
      "metadata": {
        "id": "hRimslemubTu"
      },
      "id": "hRimslemubTu"
    },
    {
      "cell_type": "code",
      "source": [
        "#@title bank_marketing.sql\n",
        "-- Create clients table\n",
        "CREATE TABLE clients (\n",
        "    id SERIAL PRIMARY KEY,\n",
        "    age INTEGER NOT NULL,\n",
        "    job TEXT NOT NULL,\n",
        "    marital TEXT NOT NULL,\n",
        "    education TEXT NOT NULL,\n",
        "    credit_default TEXT NOT NULL,\n",
        "    housing TEXT NOT NULL,\n",
        "    loan TEXT NOT NULL\n",
        ");\n",
        "\n",
        "-- Populate clients table with data from clients.csv file\n",
        "COPY clients FROM '/path/to/clients.csv' DELIMITER ',' CSV HEADER;\n",
        "\n",
        "-- Create campaigns table\n",
        "CREATE TABLE campaigns (\n",
        "    campaign_id INTEGER PRIMARY KEY,\n",
        "    client_id INTEGER NOT NULL REFERENCES clients(id),\n",
        "    number_contacts INTEGER NOT NULL,\n",
        "    contact_duration INTEGER NOT NULL,\n",
        "    pdays INTEGER NOT NULL,\n",
        "    previous_campaign_contacts INTEGER NOT NULL,\n",
        "    previous_outcome TEXT NOT NULL,\n",
        "    campaign_outcome INTEGER NOT NULL,\n",
        "    last_contact_date DATE NOT NULL\n",
        ");\n",
        "\n",
        "-- Populate campaigns table with data from campaigns.csv file\n",
        "COPY campaigns FROM '/path/to/campaigns.csv' DELIMITER ',' CSV HEADER;\n",
        "\n",
        "-- Create economics table\n",
        "CREATE TABLE economics (\n",
        "    client_id INTEGER NOT NULL REFERENCES clients(id),\n",
        "    emp_var_rate FLOAT NOT NULL,\n",
        "    cons_price_idx FLOAT NOT NULL,\n",
        "    euribor_three_months FLOAT NOT NULL,\n",
        "    number_employed FLOAT NOT NULL\n",
        ");\n",
        "\n",
        "-- Populate economics table with data from economics.csv file\n",
        "COPY economics FROM '/path/to/economics.csv' DELIMITER ',' CSV HEADER;\n"
      ],
      "metadata": {
        "id": "M4mzUv0zuurI"
      },
      "id": "M4mzUv0zuurI",
      "execution_count": null,
      "outputs": []
    },
    {
      "cell_type": "markdown",
      "source": [
        "**NOTE: WE PROVIDED THE SQL CODE ABOVE IN A SEPARATE .SQL FILE.**\n",
        "\n",
        "You can execute it using any SQL client or command line tool that supports PostgreSQL."
      ],
      "metadata": {
        "id": "4fqKlrU9uzHx"
      },
      "id": "4fqKlrU9uzHx"
    },
    {
      "cell_type": "code",
      "source": [],
      "metadata": {
        "id": "thZMAYrdvFfg"
      },
      "id": "thZMAYrdvFfg",
      "execution_count": null,
      "outputs": []
    }
  ],
  "metadata": {
    "editor": "DataCamp Workspace",
    "kernelspec": {
      "display_name": "Python 3",
      "language": "python",
      "name": "python3"
    },
    "language_info": {
      "codemirror_mode": {
        "name": "ipython",
        "version": 3
      },
      "file_extension": ".py",
      "mimetype": "text/x-python",
      "name": "python",
      "nbconvert_exporter": "python",
      "pygments_lexer": "ipython3",
      "version": "3.10.0"
    },
    "vscode": {
      "interpreter": {
        "hash": "aee8b7b246df8f9039afb4144a1f6fd8d2ca17a180786b69acc140d282b71a49"
      }
    },
    "colab": {
      "provenance": [],
      "include_colab_link": true
    }
  },
  "nbformat": 4,
  "nbformat_minor": 5
}